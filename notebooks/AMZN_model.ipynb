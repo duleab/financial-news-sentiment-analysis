{
 "cells": [
  {
   "cell_type": "code",
   "execution_count": 49,
   "metadata": {},
   "outputs": [],
   "source": [
    "# Import necessary modules and functions\n",
    "import warnings\n",
    "import sys\n",
    "import os\n",
    "import ta\n",
    "import pandas as pd\n",
    "import numpy as np\n",
    "import matplotlib.pyplot as plt\n",
    "import seaborn as sns\n",
    "import plotly.express as px\n",
    "import plotly.graph_objects as go\n",
    "from plotly.subplots import make_subplots\n",
    "sys.path.append('../scripts')\n",
    "warnings.filterwarnings('ignore')\n"
   ]
  },
  {
   "cell_type": "code",
   "execution_count": 50,
   "metadata": {},
   "outputs": [
    {
     "data": {
      "text/html": [
       "<div>\n",
       "<style scoped>\n",
       "    .dataframe tbody tr th:only-of-type {\n",
       "        vertical-align: middle;\n",
       "    }\n",
       "\n",
       "    .dataframe tbody tr th {\n",
       "        vertical-align: top;\n",
       "    }\n",
       "\n",
       "    .dataframe thead th {\n",
       "        text-align: right;\n",
       "    }\n",
       "</style>\n",
       "<table border=\"1\" class=\"dataframe\">\n",
       "  <thead>\n",
       "    <tr style=\"text-align: right;\">\n",
       "      <th></th>\n",
       "      <th>Date</th>\n",
       "      <th>Open</th>\n",
       "      <th>High</th>\n",
       "      <th>Low</th>\n",
       "      <th>Close</th>\n",
       "      <th>Adj Close</th>\n",
       "      <th>Volume</th>\n",
       "      <th>Dividends</th>\n",
       "      <th>Stock Splits</th>\n",
       "    </tr>\n",
       "  </thead>\n",
       "  <tbody>\n",
       "    <tr>\n",
       "      <th>0</th>\n",
       "      <td>1997-05-15</td>\n",
       "      <td>0.121875</td>\n",
       "      <td>0.125000</td>\n",
       "      <td>0.096354</td>\n",
       "      <td>0.097917</td>\n",
       "      <td>0.097917</td>\n",
       "      <td>1443120000</td>\n",
       "      <td>0.0</td>\n",
       "      <td>0.0</td>\n",
       "    </tr>\n",
       "    <tr>\n",
       "      <th>1</th>\n",
       "      <td>1997-05-16</td>\n",
       "      <td>0.098438</td>\n",
       "      <td>0.098958</td>\n",
       "      <td>0.085417</td>\n",
       "      <td>0.086458</td>\n",
       "      <td>0.086458</td>\n",
       "      <td>294000000</td>\n",
       "      <td>0.0</td>\n",
       "      <td>0.0</td>\n",
       "    </tr>\n",
       "    <tr>\n",
       "      <th>2</th>\n",
       "      <td>1997-05-19</td>\n",
       "      <td>0.088021</td>\n",
       "      <td>0.088542</td>\n",
       "      <td>0.081250</td>\n",
       "      <td>0.085417</td>\n",
       "      <td>0.085417</td>\n",
       "      <td>122136000</td>\n",
       "      <td>0.0</td>\n",
       "      <td>0.0</td>\n",
       "    </tr>\n",
       "    <tr>\n",
       "      <th>3</th>\n",
       "      <td>1997-05-20</td>\n",
       "      <td>0.086458</td>\n",
       "      <td>0.087500</td>\n",
       "      <td>0.081771</td>\n",
       "      <td>0.081771</td>\n",
       "      <td>0.081771</td>\n",
       "      <td>109344000</td>\n",
       "      <td>0.0</td>\n",
       "      <td>0.0</td>\n",
       "    </tr>\n",
       "    <tr>\n",
       "      <th>4</th>\n",
       "      <td>1997-05-21</td>\n",
       "      <td>0.081771</td>\n",
       "      <td>0.082292</td>\n",
       "      <td>0.068750</td>\n",
       "      <td>0.071354</td>\n",
       "      <td>0.071354</td>\n",
       "      <td>377064000</td>\n",
       "      <td>0.0</td>\n",
       "      <td>0.0</td>\n",
       "    </tr>\n",
       "  </tbody>\n",
       "</table>\n",
       "</div>"
      ],
      "text/plain": [
       "         Date      Open      High       Low     Close  Adj Close      Volume  \\\n",
       "0  1997-05-15  0.121875  0.125000  0.096354  0.097917   0.097917  1443120000   \n",
       "1  1997-05-16  0.098438  0.098958  0.085417  0.086458   0.086458   294000000   \n",
       "2  1997-05-19  0.088021  0.088542  0.081250  0.085417   0.085417   122136000   \n",
       "3  1997-05-20  0.086458  0.087500  0.081771  0.081771   0.081771   109344000   \n",
       "4  1997-05-21  0.081771  0.082292  0.068750  0.071354   0.071354   377064000   \n",
       "\n",
       "   Dividends  Stock Splits  \n",
       "0        0.0           0.0  \n",
       "1        0.0           0.0  \n",
       "2        0.0           0.0  \n",
       "3        0.0           0.0  \n",
       "4        0.0           0.0  "
      ]
     },
     "execution_count": 50,
     "metadata": {},
     "output_type": "execute_result"
    }
   ],
   "source": [
    "#load Dataset\n",
    "df = pd.read_csv(\"..\\data\\yfinance_data\\AMZN_historical_data.csv\")\n",
    "df.head()"
   ]
  },
  {
   "cell_type": "code",
   "execution_count": 51,
   "metadata": {},
   "outputs": [
    {
     "data": {
      "text/plain": [
       "(6846, 9)"
      ]
     },
     "execution_count": 51,
     "metadata": {},
     "output_type": "execute_result"
    }
   ],
   "source": [
    "df.shape"
   ]
  },
  {
   "cell_type": "code",
   "execution_count": 52,
   "metadata": {},
   "outputs": [
    {
     "name": "stdout",
     "output_type": "stream",
     "text": [
      "<class 'pandas.core.frame.DataFrame'>\n",
      "RangeIndex: 6846 entries, 0 to 6845\n",
      "Data columns (total 9 columns):\n",
      " #   Column        Non-Null Count  Dtype  \n",
      "---  ------        --------------  -----  \n",
      " 0   Date          6846 non-null   object \n",
      " 1   Open          6846 non-null   float64\n",
      " 2   High          6846 non-null   float64\n",
      " 3   Low           6846 non-null   float64\n",
      " 4   Close         6846 non-null   float64\n",
      " 5   Adj Close     6846 non-null   float64\n",
      " 6   Volume        6846 non-null   int64  \n",
      " 7   Dividends     6846 non-null   float64\n",
      " 8   Stock Splits  6846 non-null   float64\n",
      "dtypes: float64(7), int64(1), object(1)\n",
      "memory usage: 481.5+ KB\n"
     ]
    }
   ],
   "source": [
    "df.info()"
   ]
  },
  {
   "cell_type": "code",
   "execution_count": 53,
   "metadata": {},
   "outputs": [
    {
     "data": {
      "text/plain": [
       "Date            0\n",
       "Open            0\n",
       "High            0\n",
       "Low             0\n",
       "Close           0\n",
       "Adj Close       0\n",
       "Volume          0\n",
       "Dividends       0\n",
       "Stock Splits    0\n",
       "dtype: int64"
      ]
     },
     "execution_count": 53,
     "metadata": {},
     "output_type": "execute_result"
    }
   ],
   "source": [
    "df.isnull().sum()"
   ]
  },
  {
   "cell_type": "code",
   "execution_count": 54,
   "metadata": {},
   "outputs": [
    {
     "data": {
      "text/plain": [
       "Date        Open        High        Low         Close       Adj Close   Volume      Dividends  Stock Splits\n",
       "1997-05-15  0.121875    0.125000    0.096354    0.097917    0.097917    1443120000  0.0        0.0             1\n",
       "2015-07-17  23.885000   24.271000   23.862499   24.150499   24.150499   98644000    0.0        0.0             1\n",
       "2015-07-15  23.152000   23.235001   23.010000   23.059500   23.059500   59748000    0.0        0.0             1\n",
       "2015-07-14  23.115999   23.480000   22.908001   23.278500   23.278500   94724000    0.0        0.0             1\n",
       "2015-07-13  22.414499   22.893499   22.377001   22.778500   22.778500   79136000    0.0        0.0             1\n",
       "                                                                                                              ..\n",
       "2006-06-07  1.670000    1.727000    1.645500    1.688500    1.688500    106076000   0.0        0.0             1\n",
       "2006-06-06  1.679000    1.690000    1.646500    1.670500    1.670500    85532000    0.0        0.0             1\n",
       "2006-06-05  1.723000    1.727000    1.663500    1.674500    1.674500    100988000   0.0        0.0             1\n",
       "2006-06-02  1.759500    1.761000    1.702500    1.738000    1.738000    108858000   0.0        0.0             1\n",
       "2024-07-30  184.720001  185.860001  179.380005  181.710007  181.710007  39508600    0.0        0.0             1\n",
       "Name: count, Length: 6846, dtype: int64"
      ]
     },
     "execution_count": 54,
     "metadata": {},
     "output_type": "execute_result"
    }
   ],
   "source": [
    "df.value_counts()"
   ]
  },
  {
   "cell_type": "code",
   "execution_count": 55,
   "metadata": {},
   "outputs": [
    {
     "data": {
      "text/html": [
       "<div>\n",
       "<style scoped>\n",
       "    .dataframe tbody tr th:only-of-type {\n",
       "        vertical-align: middle;\n",
       "    }\n",
       "\n",
       "    .dataframe tbody tr th {\n",
       "        vertical-align: top;\n",
       "    }\n",
       "\n",
       "    .dataframe thead th {\n",
       "        text-align: right;\n",
       "    }\n",
       "</style>\n",
       "<table border=\"1\" class=\"dataframe\">\n",
       "  <thead>\n",
       "    <tr style=\"text-align: right;\">\n",
       "      <th></th>\n",
       "      <th>Open</th>\n",
       "      <th>High</th>\n",
       "      <th>Low</th>\n",
       "      <th>Close</th>\n",
       "      <th>Adj Close</th>\n",
       "      <th>Volume</th>\n",
       "      <th>Dividends</th>\n",
       "      <th>Stock Splits</th>\n",
       "    </tr>\n",
       "  </thead>\n",
       "  <tbody>\n",
       "    <tr>\n",
       "      <th>count</th>\n",
       "      <td>6846.000000</td>\n",
       "      <td>6846.000000</td>\n",
       "      <td>6846.000000</td>\n",
       "      <td>6846.000000</td>\n",
       "      <td>6846.000000</td>\n",
       "      <td>6.846000e+03</td>\n",
       "      <td>6846.0</td>\n",
       "      <td>6846.000000</td>\n",
       "    </tr>\n",
       "    <tr>\n",
       "      <th>mean</th>\n",
       "      <td>37.360464</td>\n",
       "      <td>37.801009</td>\n",
       "      <td>36.882561</td>\n",
       "      <td>37.351096</td>\n",
       "      <td>37.351096</td>\n",
       "      <td>1.380713e+08</td>\n",
       "      <td>0.0</td>\n",
       "      <td>0.003944</td>\n",
       "    </tr>\n",
       "    <tr>\n",
       "      <th>std</th>\n",
       "      <td>53.756955</td>\n",
       "      <td>54.366449</td>\n",
       "      <td>53.087051</td>\n",
       "      <td>53.729913</td>\n",
       "      <td>53.729913</td>\n",
       "      <td>1.382346e+08</td>\n",
       "      <td>0.0</td>\n",
       "      <td>0.246789</td>\n",
       "    </tr>\n",
       "    <tr>\n",
       "      <th>min</th>\n",
       "      <td>0.070313</td>\n",
       "      <td>0.072396</td>\n",
       "      <td>0.065625</td>\n",
       "      <td>0.069792</td>\n",
       "      <td>0.069792</td>\n",
       "      <td>9.744000e+06</td>\n",
       "      <td>0.0</td>\n",
       "      <td>0.000000</td>\n",
       "    </tr>\n",
       "    <tr>\n",
       "      <th>25%</th>\n",
       "      <td>2.070125</td>\n",
       "      <td>2.120625</td>\n",
       "      <td>2.040156</td>\n",
       "      <td>2.076750</td>\n",
       "      <td>2.076750</td>\n",
       "      <td>6.505442e+07</td>\n",
       "      <td>0.0</td>\n",
       "      <td>0.000000</td>\n",
       "    </tr>\n",
       "    <tr>\n",
       "      <th>50%</th>\n",
       "      <td>8.574500</td>\n",
       "      <td>8.666750</td>\n",
       "      <td>8.466500</td>\n",
       "      <td>8.591500</td>\n",
       "      <td>8.591500</td>\n",
       "      <td>1.020650e+08</td>\n",
       "      <td>0.0</td>\n",
       "      <td>0.000000</td>\n",
       "    </tr>\n",
       "    <tr>\n",
       "      <th>75%</th>\n",
       "      <td>50.453876</td>\n",
       "      <td>50.723249</td>\n",
       "      <td>50.059875</td>\n",
       "      <td>50.426500</td>\n",
       "      <td>50.426500</td>\n",
       "      <td>1.567560e+08</td>\n",
       "      <td>0.0</td>\n",
       "      <td>0.000000</td>\n",
       "    </tr>\n",
       "    <tr>\n",
       "      <th>max</th>\n",
       "      <td>200.089996</td>\n",
       "      <td>201.199997</td>\n",
       "      <td>199.050003</td>\n",
       "      <td>200.000000</td>\n",
       "      <td>200.000000</td>\n",
       "      <td>2.086584e+09</td>\n",
       "      <td>0.0</td>\n",
       "      <td>20.000000</td>\n",
       "    </tr>\n",
       "  </tbody>\n",
       "</table>\n",
       "</div>"
      ],
      "text/plain": [
       "              Open         High          Low        Close    Adj Close  \\\n",
       "count  6846.000000  6846.000000  6846.000000  6846.000000  6846.000000   \n",
       "mean     37.360464    37.801009    36.882561    37.351096    37.351096   \n",
       "std      53.756955    54.366449    53.087051    53.729913    53.729913   \n",
       "min       0.070313     0.072396     0.065625     0.069792     0.069792   \n",
       "25%       2.070125     2.120625     2.040156     2.076750     2.076750   \n",
       "50%       8.574500     8.666750     8.466500     8.591500     8.591500   \n",
       "75%      50.453876    50.723249    50.059875    50.426500    50.426500   \n",
       "max     200.089996   201.199997   199.050003   200.000000   200.000000   \n",
       "\n",
       "             Volume  Dividends  Stock Splits  \n",
       "count  6.846000e+03     6846.0   6846.000000  \n",
       "mean   1.380713e+08        0.0      0.003944  \n",
       "std    1.382346e+08        0.0      0.246789  \n",
       "min    9.744000e+06        0.0      0.000000  \n",
       "25%    6.505442e+07        0.0      0.000000  \n",
       "50%    1.020650e+08        0.0      0.000000  \n",
       "75%    1.567560e+08        0.0      0.000000  \n",
       "max    2.086584e+09        0.0     20.000000  "
      ]
     },
     "execution_count": 55,
     "metadata": {},
     "output_type": "execute_result"
    }
   ],
   "source": [
    "df.describe()"
   ]
  },
  {
   "cell_type": "code",
   "execution_count": 56,
   "metadata": {},
   "outputs": [
    {
     "name": "stdout",
     "output_type": "stream",
     "text": [
      "✓ Loaded AMZN: 6846 records\n",
      "Latest available date (end_date) for AMZN:\n",
      "AMZN: 2024-07-30\n"
     ]
    }
   ],
   "source": [
    "\n",
    "# Load only AMZN data\n",
    "def load_amzn_data():\n",
    "    try:\n",
    "        filename = os.path.join(\"..\", \"data\", \"yfinance_data\", \"AMZN_historical_data.csv\")\n",
    "        df = pd.read_csv(filename)\n",
    "        df['Date'] = pd.to_datetime(df['Date'])\n",
    "        print(f\"✓ Loaded AMZN: {len(df)} records\")\n",
    "        return df\n",
    "    except FileNotFoundError:\n",
    "        print(\"✗ Could not load AMZN_historical_data.csv\")\n",
    "        return None\n",
    "\n",
    "# Load data\n",
    "amzn_df = load_amzn_data()\n",
    "\n",
    "# Check latest available date\n",
    "if amzn_df is not None and 'Date' in amzn_df.columns:\n",
    "    latest_date = amzn_df['Date'].max()\n",
    "    print(\"Latest available date (end_date) for AMZN:\")\n",
    "    print(f\"AMZN: {latest_date.strftime('%Y-%m-%d')}\")\n"
   ]
  },
  {
   "cell_type": "code",
   "execution_count": 57,
   "metadata": {},
   "outputs": [
    {
     "data": {
      "application/vnd.plotly.v1+json": {
       "config": {
        "plotlyServerURL": "https://plot.ly"
       },
       "data": [
        {
         "line": {
          "color": "blue"
         },
         "name": "AMZN Close Price",
         "type": "scatter",
         "x": [
          "2022-01-03",
          "2022-01-04",
          "2022-01-05",
          "2022-01-06",
          "2022-01-07",
          "2022-01-10",
          "2022-01-11",
          "2022-01-12",
          "2022-01-13",
          "2022-01-14",
          "2022-01-18",
          "2022-01-19",
          "2022-01-20",
          "2022-01-21",
          "2022-01-24",
          "2022-01-25",
          "2022-01-26",
          "2022-01-27",
          "2022-01-28",
          "2022-01-31",
          "2022-02-01",
          "2022-02-02",
          "2022-02-03",
          "2022-02-04",
          "2022-02-07",
          "2022-02-08",
          "2022-02-09",
          "2022-02-10",
          "2022-02-11",
          "2022-02-14",
          "2022-02-15",
          "2022-02-16",
          "2022-02-17",
          "2022-02-18",
          "2022-02-22",
          "2022-02-23",
          "2022-02-24",
          "2022-02-25",
          "2022-02-28",
          "2022-03-01",
          "2022-03-02",
          "2022-03-03",
          "2022-03-04",
          "2022-03-07",
          "2022-03-08",
          "2022-03-09",
          "2022-03-10",
          "2022-03-11",
          "2022-03-14",
          "2022-03-15",
          "2022-03-16",
          "2022-03-17",
          "2022-03-18",
          "2022-03-21",
          "2022-03-22",
          "2022-03-23",
          "2022-03-24",
          "2022-03-25",
          "2022-03-28",
          "2022-03-29",
          "2022-03-30",
          "2022-03-31",
          "2022-04-01",
          "2022-04-04",
          "2022-04-05",
          "2022-04-06",
          "2022-04-07",
          "2022-04-08",
          "2022-04-11",
          "2022-04-12",
          "2022-04-13",
          "2022-04-14",
          "2022-04-18",
          "2022-04-19",
          "2022-04-20",
          "2022-04-21",
          "2022-04-22",
          "2022-04-25",
          "2022-04-26",
          "2022-04-27",
          "2022-04-28",
          "2022-04-29",
          "2022-05-02",
          "2022-05-03",
          "2022-05-04",
          "2022-05-05",
          "2022-05-06",
          "2022-05-09",
          "2022-05-10",
          "2022-05-11",
          "2022-05-12",
          "2022-05-13",
          "2022-05-16",
          "2022-05-17",
          "2022-05-18",
          "2022-05-19",
          "2022-05-20",
          "2022-05-23",
          "2022-05-24",
          "2022-05-25",
          "2022-05-26",
          "2022-05-27",
          "2022-05-31",
          "2022-06-01",
          "2022-06-02",
          "2022-06-03",
          "2022-06-06",
          "2022-06-07",
          "2022-06-08",
          "2022-06-09",
          "2022-06-10",
          "2022-06-13",
          "2022-06-14",
          "2022-06-15",
          "2022-06-16",
          "2022-06-17",
          "2022-06-21",
          "2022-06-22",
          "2022-06-23",
          "2022-06-24",
          "2022-06-27",
          "2022-06-28",
          "2022-06-29",
          "2022-06-30",
          "2022-07-01",
          "2022-07-05",
          "2022-07-06",
          "2022-07-07",
          "2022-07-08",
          "2022-07-11",
          "2022-07-12",
          "2022-07-13",
          "2022-07-14",
          "2022-07-15",
          "2022-07-18",
          "2022-07-19",
          "2022-07-20",
          "2022-07-21",
          "2022-07-22",
          "2022-07-25",
          "2022-07-26",
          "2022-07-27",
          "2022-07-28",
          "2022-07-29",
          "2022-08-01",
          "2022-08-02",
          "2022-08-03",
          "2022-08-04",
          "2022-08-05",
          "2022-08-08",
          "2022-08-09",
          "2022-08-10",
          "2022-08-11",
          "2022-08-12",
          "2022-08-15",
          "2022-08-16",
          "2022-08-17",
          "2022-08-18",
          "2022-08-19",
          "2022-08-22",
          "2022-08-23",
          "2022-08-24",
          "2022-08-25",
          "2022-08-26",
          "2022-08-29",
          "2022-08-30",
          "2022-08-31",
          "2022-09-01",
          "2022-09-02",
          "2022-09-06",
          "2022-09-07",
          "2022-09-08",
          "2022-09-09",
          "2022-09-12",
          "2022-09-13",
          "2022-09-14",
          "2022-09-15",
          "2022-09-16",
          "2022-09-19",
          "2022-09-20",
          "2022-09-21",
          "2022-09-22",
          "2022-09-23",
          "2022-09-26",
          "2022-09-27",
          "2022-09-28",
          "2022-09-29",
          "2022-09-30",
          "2022-10-03",
          "2022-10-04",
          "2022-10-05",
          "2022-10-06",
          "2022-10-07",
          "2022-10-10",
          "2022-10-11",
          "2022-10-12",
          "2022-10-13",
          "2022-10-14",
          "2022-10-17",
          "2022-10-18",
          "2022-10-19",
          "2022-10-20",
          "2022-10-21",
          "2022-10-24",
          "2022-10-25",
          "2022-10-26",
          "2022-10-27",
          "2022-10-28",
          "2022-10-31",
          "2022-11-01",
          "2022-11-02",
          "2022-11-03",
          "2022-11-04",
          "2022-11-07",
          "2022-11-08",
          "2022-11-09",
          "2022-11-10",
          "2022-11-11",
          "2022-11-14",
          "2022-11-15",
          "2022-11-16",
          "2022-11-17",
          "2022-11-18",
          "2022-11-21",
          "2022-11-22",
          "2022-11-23",
          "2022-11-25",
          "2022-11-28",
          "2022-11-29",
          "2022-11-30",
          "2022-12-01",
          "2022-12-02",
          "2022-12-05",
          "2022-12-06",
          "2022-12-07",
          "2022-12-08",
          "2022-12-09",
          "2022-12-12",
          "2022-12-13",
          "2022-12-14",
          "2022-12-15",
          "2022-12-16",
          "2022-12-19",
          "2022-12-20",
          "2022-12-21",
          "2022-12-22",
          "2022-12-23",
          "2022-12-27",
          "2022-12-28",
          "2022-12-29",
          "2022-12-30",
          "2023-01-03",
          "2023-01-04",
          "2023-01-05",
          "2023-01-06",
          "2023-01-09",
          "2023-01-10",
          "2023-01-11",
          "2023-01-12",
          "2023-01-13",
          "2023-01-17",
          "2023-01-18",
          "2023-01-19",
          "2023-01-20",
          "2023-01-23",
          "2023-01-24",
          "2023-01-25",
          "2023-01-26",
          "2023-01-27",
          "2023-01-30",
          "2023-01-31",
          "2023-02-01",
          "2023-02-02",
          "2023-02-03",
          "2023-02-06",
          "2023-02-07",
          "2023-02-08",
          "2023-02-09",
          "2023-02-10",
          "2023-02-13",
          "2023-02-14",
          "2023-02-15",
          "2023-02-16",
          "2023-02-17",
          "2023-02-21",
          "2023-02-22",
          "2023-02-23",
          "2023-02-24",
          "2023-02-27",
          "2023-02-28",
          "2023-03-01",
          "2023-03-02",
          "2023-03-03",
          "2023-03-06",
          "2023-03-07",
          "2023-03-08",
          "2023-03-09",
          "2023-03-10",
          "2023-03-13",
          "2023-03-14",
          "2023-03-15",
          "2023-03-16",
          "2023-03-17",
          "2023-03-20",
          "2023-03-21",
          "2023-03-22",
          "2023-03-23",
          "2023-03-24",
          "2023-03-27",
          "2023-03-28",
          "2023-03-29",
          "2023-03-30",
          "2023-03-31",
          "2023-04-03",
          "2023-04-04",
          "2023-04-05",
          "2023-04-06",
          "2023-04-10",
          "2023-04-11",
          "2023-04-12",
          "2023-04-13",
          "2023-04-14",
          "2023-04-17",
          "2023-04-18",
          "2023-04-19",
          "2023-04-20",
          "2023-04-21",
          "2023-04-24",
          "2023-04-25",
          "2023-04-26",
          "2023-04-27",
          "2023-04-28",
          "2023-05-01",
          "2023-05-02",
          "2023-05-03",
          "2023-05-04",
          "2023-05-05",
          "2023-05-08",
          "2023-05-09",
          "2023-05-10",
          "2023-05-11",
          "2023-05-12",
          "2023-05-15",
          "2023-05-16",
          "2023-05-17",
          "2023-05-18",
          "2023-05-19",
          "2023-05-22",
          "2023-05-23",
          "2023-05-24",
          "2023-05-25",
          "2023-05-26",
          "2023-05-30",
          "2023-05-31",
          "2023-06-01",
          "2023-06-02",
          "2023-06-05",
          "2023-06-06",
          "2023-06-07",
          "2023-06-08",
          "2023-06-09",
          "2023-06-12",
          "2023-06-13",
          "2023-06-14",
          "2023-06-15",
          "2023-06-16",
          "2023-06-20",
          "2023-06-21",
          "2023-06-22",
          "2023-06-23",
          "2023-06-26",
          "2023-06-27",
          "2023-06-28",
          "2023-06-29",
          "2023-06-30",
          "2023-07-03",
          "2023-07-05",
          "2023-07-06",
          "2023-07-07",
          "2023-07-10",
          "2023-07-11",
          "2023-07-12",
          "2023-07-13",
          "2023-07-14",
          "2023-07-17",
          "2023-07-18",
          "2023-07-19",
          "2023-07-20",
          "2023-07-21",
          "2023-07-24",
          "2023-07-25",
          "2023-07-26",
          "2023-07-27",
          "2023-07-28",
          "2023-07-31",
          "2023-08-01",
          "2023-08-02",
          "2023-08-03",
          "2023-08-04",
          "2023-08-07",
          "2023-08-08",
          "2023-08-09",
          "2023-08-10",
          "2023-08-11",
          "2023-08-14",
          "2023-08-15",
          "2023-08-16",
          "2023-08-17",
          "2023-08-18",
          "2023-08-21",
          "2023-08-22",
          "2023-08-23",
          "2023-08-24",
          "2023-08-25",
          "2023-08-28",
          "2023-08-29",
          "2023-08-30",
          "2023-08-31",
          "2023-09-01",
          "2023-09-05",
          "2023-09-06",
          "2023-09-07",
          "2023-09-08",
          "2023-09-11",
          "2023-09-12",
          "2023-09-13",
          "2023-09-14",
          "2023-09-15",
          "2023-09-18",
          "2023-09-19",
          "2023-09-20",
          "2023-09-21",
          "2023-09-22",
          "2023-09-25",
          "2023-09-26",
          "2023-09-27",
          "2023-09-28",
          "2023-09-29",
          "2023-10-02",
          "2023-10-03",
          "2023-10-04",
          "2023-10-05",
          "2023-10-06",
          "2023-10-09",
          "2023-10-10",
          "2023-10-11",
          "2023-10-12",
          "2023-10-13",
          "2023-10-16",
          "2023-10-17",
          "2023-10-18",
          "2023-10-19",
          "2023-10-20",
          "2023-10-23",
          "2023-10-24",
          "2023-10-25",
          "2023-10-26",
          "2023-10-27",
          "2023-10-30",
          "2023-10-31",
          "2023-11-01",
          "2023-11-02",
          "2023-11-03",
          "2023-11-06",
          "2023-11-07",
          "2023-11-08",
          "2023-11-09",
          "2023-11-10",
          "2023-11-13",
          "2023-11-14",
          "2023-11-15",
          "2023-11-16",
          "2023-11-17",
          "2023-11-20",
          "2023-11-21",
          "2023-11-22",
          "2023-11-24",
          "2023-11-27",
          "2023-11-28",
          "2023-11-29",
          "2023-11-30",
          "2023-12-01",
          "2023-12-04",
          "2023-12-05",
          "2023-12-06",
          "2023-12-07",
          "2023-12-08",
          "2023-12-11",
          "2023-12-12",
          "2023-12-13",
          "2023-12-14",
          "2023-12-15",
          "2023-12-18",
          "2023-12-19",
          "2023-12-20",
          "2023-12-21",
          "2023-12-22",
          "2023-12-26",
          "2023-12-27",
          "2023-12-28",
          "2023-12-29"
         ],
         "y": {
          "bdata": "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",
          "dtype": "f8"
         }
        }
       ],
       "layout": {
        "template": {
         "data": {
          "bar": [
           {
            "error_x": {
             "color": "#2a3f5f"
            },
            "error_y": {
             "color": "#2a3f5f"
            },
            "marker": {
             "line": {
              "color": "#E5ECF6",
              "width": 0.5
             },
             "pattern": {
              "fillmode": "overlay",
              "size": 10,
              "solidity": 0.2
             }
            },
            "type": "bar"
           }
          ],
          "barpolar": [
           {
            "marker": {
             "line": {
              "color": "#E5ECF6",
              "width": 0.5
             },
             "pattern": {
              "fillmode": "overlay",
              "size": 10,
              "solidity": 0.2
             }
            },
            "type": "barpolar"
           }
          ],
          "carpet": [
           {
            "aaxis": {
             "endlinecolor": "#2a3f5f",
             "gridcolor": "white",
             "linecolor": "white",
             "minorgridcolor": "white",
             "startlinecolor": "#2a3f5f"
            },
            "baxis": {
             "endlinecolor": "#2a3f5f",
             "gridcolor": "white",
             "linecolor": "white",
             "minorgridcolor": "white",
             "startlinecolor": "#2a3f5f"
            },
            "type": "carpet"
           }
          ],
          "choropleth": [
           {
            "colorbar": {
             "outlinewidth": 0,
             "ticks": ""
            },
            "type": "choropleth"
           }
          ],
          "contour": [
           {
            "colorbar": {
             "outlinewidth": 0,
             "ticks": ""
            },
            "colorscale": [
             [
              0,
              "#0d0887"
             ],
             [
              0.1111111111111111,
              "#46039f"
             ],
             [
              0.2222222222222222,
              "#7201a8"
             ],
             [
              0.3333333333333333,
              "#9c179e"
             ],
             [
              0.4444444444444444,
              "#bd3786"
             ],
             [
              0.5555555555555556,
              "#d8576b"
             ],
             [
              0.6666666666666666,
              "#ed7953"
             ],
             [
              0.7777777777777778,
              "#fb9f3a"
             ],
             [
              0.8888888888888888,
              "#fdca26"
             ],
             [
              1,
              "#f0f921"
             ]
            ],
            "type": "contour"
           }
          ],
          "contourcarpet": [
           {
            "colorbar": {
             "outlinewidth": 0,
             "ticks": ""
            },
            "type": "contourcarpet"
           }
          ],
          "heatmap": [
           {
            "colorbar": {
             "outlinewidth": 0,
             "ticks": ""
            },
            "colorscale": [
             [
              0,
              "#0d0887"
             ],
             [
              0.1111111111111111,
              "#46039f"
             ],
             [
              0.2222222222222222,
              "#7201a8"
             ],
             [
              0.3333333333333333,
              "#9c179e"
             ],
             [
              0.4444444444444444,
              "#bd3786"
             ],
             [
              0.5555555555555556,
              "#d8576b"
             ],
             [
              0.6666666666666666,
              "#ed7953"
             ],
             [
              0.7777777777777778,
              "#fb9f3a"
             ],
             [
              0.8888888888888888,
              "#fdca26"
             ],
             [
              1,
              "#f0f921"
             ]
            ],
            "type": "heatmap"
           }
          ],
          "histogram": [
           {
            "marker": {
             "pattern": {
              "fillmode": "overlay",
              "size": 10,
              "solidity": 0.2
             }
            },
            "type": "histogram"
           }
          ],
          "histogram2d": [
           {
            "colorbar": {
             "outlinewidth": 0,
             "ticks": ""
            },
            "colorscale": [
             [
              0,
              "#0d0887"
             ],
             [
              0.1111111111111111,
              "#46039f"
             ],
             [
              0.2222222222222222,
              "#7201a8"
             ],
             [
              0.3333333333333333,
              "#9c179e"
             ],
             [
              0.4444444444444444,
              "#bd3786"
             ],
             [
              0.5555555555555556,
              "#d8576b"
             ],
             [
              0.6666666666666666,
              "#ed7953"
             ],
             [
              0.7777777777777778,
              "#fb9f3a"
             ],
             [
              0.8888888888888888,
              "#fdca26"
             ],
             [
              1,
              "#f0f921"
             ]
            ],
            "type": "histogram2d"
           }
          ],
          "histogram2dcontour": [
           {
            "colorbar": {
             "outlinewidth": 0,
             "ticks": ""
            },
            "colorscale": [
             [
              0,
              "#0d0887"
             ],
             [
              0.1111111111111111,
              "#46039f"
             ],
             [
              0.2222222222222222,
              "#7201a8"
             ],
             [
              0.3333333333333333,
              "#9c179e"
             ],
             [
              0.4444444444444444,
              "#bd3786"
             ],
             [
              0.5555555555555556,
              "#d8576b"
             ],
             [
              0.6666666666666666,
              "#ed7953"
             ],
             [
              0.7777777777777778,
              "#fb9f3a"
             ],
             [
              0.8888888888888888,
              "#fdca26"
             ],
             [
              1,
              "#f0f921"
             ]
            ],
            "type": "histogram2dcontour"
           }
          ],
          "mesh3d": [
           {
            "colorbar": {
             "outlinewidth": 0,
             "ticks": ""
            },
            "type": "mesh3d"
           }
          ],
          "parcoords": [
           {
            "line": {
             "colorbar": {
              "outlinewidth": 0,
              "ticks": ""
             }
            },
            "type": "parcoords"
           }
          ],
          "pie": [
           {
            "automargin": true,
            "type": "pie"
           }
          ],
          "scatter": [
           {
            "fillpattern": {
             "fillmode": "overlay",
             "size": 10,
             "solidity": 0.2
            },
            "type": "scatter"
           }
          ],
          "scatter3d": [
           {
            "line": {
             "colorbar": {
              "outlinewidth": 0,
              "ticks": ""
             }
            },
            "marker": {
             "colorbar": {
              "outlinewidth": 0,
              "ticks": ""
             }
            },
            "type": "scatter3d"
           }
          ],
          "scattercarpet": [
           {
            "marker": {
             "colorbar": {
              "outlinewidth": 0,
              "ticks": ""
             }
            },
            "type": "scattercarpet"
           }
          ],
          "scattergeo": [
           {
            "marker": {
             "colorbar": {
              "outlinewidth": 0,
              "ticks": ""
             }
            },
            "type": "scattergeo"
           }
          ],
          "scattergl": [
           {
            "marker": {
             "colorbar": {
              "outlinewidth": 0,
              "ticks": ""
             }
            },
            "type": "scattergl"
           }
          ],
          "scattermap": [
           {
            "marker": {
             "colorbar": {
              "outlinewidth": 0,
              "ticks": ""
             }
            },
            "type": "scattermap"
           }
          ],
          "scattermapbox": [
           {
            "marker": {
             "colorbar": {
              "outlinewidth": 0,
              "ticks": ""
             }
            },
            "type": "scattermapbox"
           }
          ],
          "scatterpolar": [
           {
            "marker": {
             "colorbar": {
              "outlinewidth": 0,
              "ticks": ""
             }
            },
            "type": "scatterpolar"
           }
          ],
          "scatterpolargl": [
           {
            "marker": {
             "colorbar": {
              "outlinewidth": 0,
              "ticks": ""
             }
            },
            "type": "scatterpolargl"
           }
          ],
          "scatterternary": [
           {
            "marker": {
             "colorbar": {
              "outlinewidth": 0,
              "ticks": ""
             }
            },
            "type": "scatterternary"
           }
          ],
          "surface": [
           {
            "colorbar": {
             "outlinewidth": 0,
             "ticks": ""
            },
            "colorscale": [
             [
              0,
              "#0d0887"
             ],
             [
              0.1111111111111111,
              "#46039f"
             ],
             [
              0.2222222222222222,
              "#7201a8"
             ],
             [
              0.3333333333333333,
              "#9c179e"
             ],
             [
              0.4444444444444444,
              "#bd3786"
             ],
             [
              0.5555555555555556,
              "#d8576b"
             ],
             [
              0.6666666666666666,
              "#ed7953"
             ],
             [
              0.7777777777777778,
              "#fb9f3a"
             ],
             [
              0.8888888888888888,
              "#fdca26"
             ],
             [
              1,
              "#f0f921"
             ]
            ],
            "type": "surface"
           }
          ],
          "table": [
           {
            "cells": {
             "fill": {
              "color": "#EBF0F8"
             },
             "line": {
              "color": "white"
             }
            },
            "header": {
             "fill": {
              "color": "#C8D4E3"
             },
             "line": {
              "color": "white"
             }
            },
            "type": "table"
           }
          ]
         },
         "layout": {
          "annotationdefaults": {
           "arrowcolor": "#2a3f5f",
           "arrowhead": 0,
           "arrowwidth": 1
          },
          "autotypenumbers": "strict",
          "coloraxis": {
           "colorbar": {
            "outlinewidth": 0,
            "ticks": ""
           }
          },
          "colorscale": {
           "diverging": [
            [
             0,
             "#8e0152"
            ],
            [
             0.1,
             "#c51b7d"
            ],
            [
             0.2,
             "#de77ae"
            ],
            [
             0.3,
             "#f1b6da"
            ],
            [
             0.4,
             "#fde0ef"
            ],
            [
             0.5,
             "#f7f7f7"
            ],
            [
             0.6,
             "#e6f5d0"
            ],
            [
             0.7,
             "#b8e186"
            ],
            [
             0.8,
             "#7fbc41"
            ],
            [
             0.9,
             "#4d9221"
            ],
            [
             1,
             "#276419"
            ]
           ],
           "sequential": [
            [
             0,
             "#0d0887"
            ],
            [
             0.1111111111111111,
             "#46039f"
            ],
            [
             0.2222222222222222,
             "#7201a8"
            ],
            [
             0.3333333333333333,
             "#9c179e"
            ],
            [
             0.4444444444444444,
             "#bd3786"
            ],
            [
             0.5555555555555556,
             "#d8576b"
            ],
            [
             0.6666666666666666,
             "#ed7953"
            ],
            [
             0.7777777777777778,
             "#fb9f3a"
            ],
            [
             0.8888888888888888,
             "#fdca26"
            ],
            [
             1,
             "#f0f921"
            ]
           ],
           "sequentialminus": [
            [
             0,
             "#0d0887"
            ],
            [
             0.1111111111111111,
             "#46039f"
            ],
            [
             0.2222222222222222,
             "#7201a8"
            ],
            [
             0.3333333333333333,
             "#9c179e"
            ],
            [
             0.4444444444444444,
             "#bd3786"
            ],
            [
             0.5555555555555556,
             "#d8576b"
            ],
            [
             0.6666666666666666,
             "#ed7953"
            ],
            [
             0.7777777777777778,
             "#fb9f3a"
            ],
            [
             0.8888888888888888,
             "#fdca26"
            ],
            [
             1,
             "#f0f921"
            ]
           ]
          },
          "colorway": [
           "#636efa",
           "#EF553B",
           "#00cc96",
           "#ab63fa",
           "#FFA15A",
           "#19d3f3",
           "#FF6692",
           "#B6E880",
           "#FF97FF",
           "#FECB52"
          ],
          "font": {
           "color": "#2a3f5f"
          },
          "geo": {
           "bgcolor": "white",
           "lakecolor": "white",
           "landcolor": "#E5ECF6",
           "showlakes": true,
           "showland": true,
           "subunitcolor": "white"
          },
          "hoverlabel": {
           "align": "left"
          },
          "hovermode": "closest",
          "mapbox": {
           "style": "light"
          },
          "paper_bgcolor": "white",
          "plot_bgcolor": "#E5ECF6",
          "polar": {
           "angularaxis": {
            "gridcolor": "white",
            "linecolor": "white",
            "ticks": ""
           },
           "bgcolor": "#E5ECF6",
           "radialaxis": {
            "gridcolor": "white",
            "linecolor": "white",
            "ticks": ""
           }
          },
          "scene": {
           "xaxis": {
            "backgroundcolor": "#E5ECF6",
            "gridcolor": "white",
            "gridwidth": 2,
            "linecolor": "white",
            "showbackground": true,
            "ticks": "",
            "zerolinecolor": "white"
           },
           "yaxis": {
            "backgroundcolor": "#E5ECF6",
            "gridcolor": "white",
            "gridwidth": 2,
            "linecolor": "white",
            "showbackground": true,
            "ticks": "",
            "zerolinecolor": "white"
           },
           "zaxis": {
            "backgroundcolor": "#E5ECF6",
            "gridcolor": "white",
            "gridwidth": 2,
            "linecolor": "white",
            "showbackground": true,
            "ticks": "",
            "zerolinecolor": "white"
           }
          },
          "shapedefaults": {
           "line": {
            "color": "#2a3f5f"
           }
          },
          "ternary": {
           "aaxis": {
            "gridcolor": "white",
            "linecolor": "white",
            "ticks": ""
           },
           "baxis": {
            "gridcolor": "white",
            "linecolor": "white",
            "ticks": ""
           },
           "bgcolor": "#E5ECF6",
           "caxis": {
            "gridcolor": "white",
            "linecolor": "white",
            "ticks": ""
           }
          },
          "title": {
           "x": 0.05
          },
          "xaxis": {
           "automargin": true,
           "gridcolor": "white",
           "linecolor": "white",
           "ticks": "",
           "title": {
            "standoff": 15
           },
           "zerolinecolor": "white",
           "zerolinewidth": 2
          },
          "yaxis": {
           "automargin": true,
           "gridcolor": "white",
           "linecolor": "white",
           "ticks": "",
           "title": {
            "standoff": 15
           },
           "zerolinecolor": "white",
           "zerolinewidth": 2
          }
         }
        },
        "title": {
         "text": "AMZN Stock Price from 2022-01-01 to 2023-12-31",
         "x": 0.5,
         "xanchor": "center"
        },
        "xaxis": {
         "title": {
          "text": "Date"
         }
        },
        "yaxis": {
         "title": {
          "text": "Close Price"
         }
        }
       }
      }
     },
     "metadata": {},
     "output_type": "display_data"
    }
   ],
   "source": [
    "\n",
    "# Define the date range\n",
    "start_date = '2022-01-01'\n",
    "end_date = '2023-12-31'\n",
    "\n",
    "# Filter data\n",
    "df_filtered = df[(df['Date'] >= start_date) & (df['Date'] <= end_date)]\n",
    "\n",
    "# Plot\n",
    "fig = go.Figure()\n",
    "fig.add_trace(go.Scatter(\n",
    "    x=df_filtered['Date'],\n",
    "    y=df_filtered['Close'],\n",
    "    name='AMZN Close Price',\n",
    "    line=dict(color='blue')\n",
    "))\n",
    "fig.update_layout(\n",
    "    title=dict(\n",
    "        text=f'AMZN Stock Price from {start_date} to {end_date}',\n",
    "        x=0.5,\n",
    "        xanchor='center'\n",
    "    ),\n",
    "    xaxis_title='Date',\n",
    "    yaxis_title='Close Price'\n",
    ")\n",
    "fig.show()\n"
   ]
  },
  {
   "cell_type": "code",
   "execution_count": null,
   "metadata": {},
   "outputs": [],
   "source": []
  },
  {
   "cell_type": "code",
   "execution_count": null,
   "metadata": {},
   "outputs": [],
   "source": []
  }
 ],
 "metadata": {
  "kernelspec": {
   "display_name": "Python 3",
   "language": "python",
   "name": "python3"
  },
  "language_info": {
   "codemirror_mode": {
    "name": "ipython",
    "version": 3
   },
   "file_extension": ".py",
   "mimetype": "text/x-python",
   "name": "python",
   "nbconvert_exporter": "python",
   "pygments_lexer": "ipython3",
   "version": "3.13.2"
  }
 },
 "nbformat": 4,
 "nbformat_minor": 2
}
